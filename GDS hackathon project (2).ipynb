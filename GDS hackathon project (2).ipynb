{
 "cells": [
  {
   "cell_type": "markdown",
   "id": "a76334f2",
   "metadata": {},
   "source": [
    "### Project Name : GDS Mart's - Supply Chain Efficiency Analysis\n",
    "\n",
    "#### Problem statement : GDS Mart, an FMCG manufacturer in Gujarat, India, aims to expand to new cities but faces customer retention issues due to delivery service problems. They seek to measure 'On-time delivery %,' 'In-full delivery %,' and 'OnTime in full %' against set targets for daily customer orders to address these issues effectively.\n",
    "\n",
    "### Github link : https://github.com/shashankhiwarkar/GDS-Mart-s---Supply-Chain-Efficiency-Analysis.git "
   ]
  },
  {
   "cell_type": "markdown",
   "id": "e60c6055",
   "metadata": {},
   "source": [
    "### Impoting Data"
   ]
  },
  {
   "cell_type": "code",
   "execution_count": 29,
   "id": "f35dcd6d",
   "metadata": {},
   "outputs": [],
   "source": [
    "# importing librabry\n",
    "\n",
    "import numphy as np\n",
    "import pandas as pd"
   ]
  },
  {
   "cell_type": "markdown",
   "id": "789700f5",
   "metadata": {},
   "source": []
  },
  {
   "cell_type": "code",
   "execution_count": 100,
   "id": "5a5d5763",
   "metadata": {},
   "outputs": [],
   "source": [
    "# Data Loading, reading CSV file\n",
    "\n",
    "customers=pd.read_csv('Raw Data/dim_customers.csv')\n",
    "\n",
    "dates=pd.read_csv('Raw Data/dim_date.csv')\n",
    "\n",
    "products=pd.read_csv('Raw Data/dim_products.csv')\n",
    "\n",
    "target_orders=pd.read_csv('Raw Data/dim_targets_orders.csv')\n",
    "\n",
    "order_line=pd.read_csv('Raw Data/fact_order_lines.csv')\n",
    "\n",
    "order_aggregate=pd.read_csv('Raw Data/fact_orders_aggregate.csv')"
   ]
  },
  {
   "cell_type": "markdown",
   "id": "5524c46a",
   "metadata": {},
   "source": [
    "### Getting familer with Data"
   ]
  },
  {
   "cell_type": "markdown",
   "id": "46827215",
   "metadata": {},
   "source": [
    "### Table : fact_order_line"
   ]
  },
  {
   "cell_type": "code",
   "execution_count": 30,
   "id": "b778b2d6",
   "metadata": {
    "scrolled": true
   },
   "outputs": [
    {
     "data": {
      "text/html": [
       "<div>\n",
       "<style scoped>\n",
       "    .dataframe tbody tr th:only-of-type {\n",
       "        vertical-align: middle;\n",
       "    }\n",
       "\n",
       "    .dataframe tbody tr th {\n",
       "        vertical-align: top;\n",
       "    }\n",
       "\n",
       "    .dataframe thead th {\n",
       "        text-align: right;\n",
       "    }\n",
       "</style>\n",
       "<table border=\"1\" class=\"dataframe\">\n",
       "  <thead>\n",
       "    <tr style=\"text-align: right;\">\n",
       "      <th></th>\n",
       "      <th>order_id</th>\n",
       "      <th>order_placement_date</th>\n",
       "      <th>customer_id</th>\n",
       "      <th>product_id</th>\n",
       "      <th>order_qty</th>\n",
       "      <th>agreed_delivery_date</th>\n",
       "      <th>actual_delivery_date</th>\n",
       "      <th>delivery_qty</th>\n",
       "      <th>In Full</th>\n",
       "      <th>On Time</th>\n",
       "      <th>On Time In Full</th>\n",
       "    </tr>\n",
       "  </thead>\n",
       "  <tbody>\n",
       "    <tr>\n",
       "      <th>0</th>\n",
       "      <td>FMR32603203</td>\n",
       "      <td>01-Mar-22</td>\n",
       "      <td>789603</td>\n",
       "      <td>25891203</td>\n",
       "      <td>460</td>\n",
       "      <td>02-Mar-22</td>\n",
       "      <td>03-Mar-22</td>\n",
       "      <td>460</td>\n",
       "      <td>1</td>\n",
       "      <td>0</td>\n",
       "      <td>1</td>\n",
       "    </tr>\n",
       "    <tr>\n",
       "      <th>1</th>\n",
       "      <td>FMR33401603</td>\n",
       "      <td>01-Mar-22</td>\n",
       "      <td>789401</td>\n",
       "      <td>25891203</td>\n",
       "      <td>429</td>\n",
       "      <td>03-Mar-22</td>\n",
       "      <td>03-Mar-22</td>\n",
       "      <td>429</td>\n",
       "      <td>1</td>\n",
       "      <td>1</td>\n",
       "      <td>1</td>\n",
       "    </tr>\n",
       "    <tr>\n",
       "      <th>2</th>\n",
       "      <td>FMR32320302</td>\n",
       "      <td>01-Mar-22</td>\n",
       "      <td>789320</td>\n",
       "      <td>25891203</td>\n",
       "      <td>347</td>\n",
       "      <td>02-Mar-22</td>\n",
       "      <td>02-Mar-22</td>\n",
       "      <td>347</td>\n",
       "      <td>1</td>\n",
       "      <td>1</td>\n",
       "      <td>1</td>\n",
       "    </tr>\n",
       "    <tr>\n",
       "      <th>3</th>\n",
       "      <td>FMR33320501</td>\n",
       "      <td>01-Mar-22</td>\n",
       "      <td>789320</td>\n",
       "      <td>25891203</td>\n",
       "      <td>187</td>\n",
       "      <td>03-Mar-22</td>\n",
       "      <td>03-Mar-22</td>\n",
       "      <td>150</td>\n",
       "      <td>0</td>\n",
       "      <td>1</td>\n",
       "      <td>0</td>\n",
       "    </tr>\n",
       "    <tr>\n",
       "      <th>4</th>\n",
       "      <td>FMR34220601</td>\n",
       "      <td>01-Mar-22</td>\n",
       "      <td>789220</td>\n",
       "      <td>25891203</td>\n",
       "      <td>235</td>\n",
       "      <td>04-Mar-22</td>\n",
       "      <td>04-Mar-22</td>\n",
       "      <td>235</td>\n",
       "      <td>1</td>\n",
       "      <td>1</td>\n",
       "      <td>1</td>\n",
       "    </tr>\n",
       "    <tr>\n",
       "      <th>...</th>\n",
       "      <td>...</td>\n",
       "      <td>...</td>\n",
       "      <td>...</td>\n",
       "      <td>...</td>\n",
       "      <td>...</td>\n",
       "      <td>...</td>\n",
       "      <td>...</td>\n",
       "      <td>...</td>\n",
       "      <td>...</td>\n",
       "      <td>...</td>\n",
       "      <td>...</td>\n",
       "    </tr>\n",
       "    <tr>\n",
       "      <th>57091</th>\n",
       "      <td>FAUG831420303</td>\n",
       "      <td>30-Aug-22</td>\n",
       "      <td>789420</td>\n",
       "      <td>25891303</td>\n",
       "      <td>24</td>\n",
       "      <td>31-Aug-22</td>\n",
       "      <td>30-Aug-22</td>\n",
       "      <td>24</td>\n",
       "      <td>1</td>\n",
       "      <td>1</td>\n",
       "      <td>1</td>\n",
       "    </tr>\n",
       "    <tr>\n",
       "      <th>57092</th>\n",
       "      <td>FAUG831122303</td>\n",
       "      <td>30-Aug-22</td>\n",
       "      <td>789122</td>\n",
       "      <td>25891303</td>\n",
       "      <td>67</td>\n",
       "      <td>31-Aug-22</td>\n",
       "      <td>31-Aug-22</td>\n",
       "      <td>54</td>\n",
       "      <td>0</td>\n",
       "      <td>1</td>\n",
       "      <td>0</td>\n",
       "    </tr>\n",
       "    <tr>\n",
       "      <th>57093</th>\n",
       "      <td>FAUG831702303</td>\n",
       "      <td>30-Aug-22</td>\n",
       "      <td>789702</td>\n",
       "      <td>25891303</td>\n",
       "      <td>41</td>\n",
       "      <td>31-Aug-22</td>\n",
       "      <td>30-Aug-22</td>\n",
       "      <td>37</td>\n",
       "      <td>0</td>\n",
       "      <td>1</td>\n",
       "      <td>0</td>\n",
       "    </tr>\n",
       "    <tr>\n",
       "      <th>57094</th>\n",
       "      <td>FAUG831221503</td>\n",
       "      <td>30-Aug-22</td>\n",
       "      <td>789221</td>\n",
       "      <td>25891303</td>\n",
       "      <td>92</td>\n",
       "      <td>31-Aug-22</td>\n",
       "      <td>31-Aug-22</td>\n",
       "      <td>83</td>\n",
       "      <td>0</td>\n",
       "      <td>1</td>\n",
       "      <td>0</td>\n",
       "    </tr>\n",
       "    <tr>\n",
       "      <th>57095</th>\n",
       "      <td>FAUG831202303</td>\n",
       "      <td>30-Aug-22</td>\n",
       "      <td>789202</td>\n",
       "      <td>25891303</td>\n",
       "      <td>29</td>\n",
       "      <td>31-Aug-22</td>\n",
       "      <td>01-Sep-22</td>\n",
       "      <td>29</td>\n",
       "      <td>1</td>\n",
       "      <td>0</td>\n",
       "      <td>1</td>\n",
       "    </tr>\n",
       "  </tbody>\n",
       "</table>\n",
       "<p>57096 rows × 11 columns</p>\n",
       "</div>"
      ],
      "text/plain": [
       "            order_id order_placement_date  customer_id  product_id  order_qty  \\\n",
       "0        FMR32603203            01-Mar-22       789603    25891203        460   \n",
       "1        FMR33401603            01-Mar-22       789401    25891203        429   \n",
       "2        FMR32320302            01-Mar-22       789320    25891203        347   \n",
       "3        FMR33320501            01-Mar-22       789320    25891203        187   \n",
       "4        FMR34220601            01-Mar-22       789220    25891203        235   \n",
       "...              ...                  ...          ...         ...        ...   \n",
       "57091  FAUG831420303            30-Aug-22       789420    25891303         24   \n",
       "57092  FAUG831122303            30-Aug-22       789122    25891303         67   \n",
       "57093  FAUG831702303            30-Aug-22       789702    25891303         41   \n",
       "57094  FAUG831221503            30-Aug-22       789221    25891303         92   \n",
       "57095  FAUG831202303            30-Aug-22       789202    25891303         29   \n",
       "\n",
       "      agreed_delivery_date actual_delivery_date  delivery_qty  In Full  \\\n",
       "0                02-Mar-22            03-Mar-22           460        1   \n",
       "1                03-Mar-22            03-Mar-22           429        1   \n",
       "2                02-Mar-22            02-Mar-22           347        1   \n",
       "3                03-Mar-22            03-Mar-22           150        0   \n",
       "4                04-Mar-22            04-Mar-22           235        1   \n",
       "...                    ...                  ...           ...      ...   \n",
       "57091            31-Aug-22            30-Aug-22            24        1   \n",
       "57092            31-Aug-22            31-Aug-22            54        0   \n",
       "57093            31-Aug-22            30-Aug-22            37        0   \n",
       "57094            31-Aug-22            31-Aug-22            83        0   \n",
       "57095            31-Aug-22            01-Sep-22            29        1   \n",
       "\n",
       "       On Time  On Time In Full  \n",
       "0            0                1  \n",
       "1            1                1  \n",
       "2            1                1  \n",
       "3            1                0  \n",
       "4            1                1  \n",
       "...        ...              ...  \n",
       "57091        1                1  \n",
       "57092        1                0  \n",
       "57093        1                0  \n",
       "57094        1                0  \n",
       "57095        0                1  \n",
       "\n",
       "[57096 rows x 11 columns]"
      ]
     },
     "execution_count": 30,
     "metadata": {},
     "output_type": "execute_result"
    }
   ],
   "source": [
    "#stored order_line data  to DataFrame stored as orderline\n",
    "\n",
    "orderline=pd.DataFrame(order_line)\n",
    "orderline"
   ]
  },
  {
   "cell_type": "markdown",
   "id": "7fa7f43c",
   "metadata": {},
   "source": []
  },
  {
   "cell_type": "code",
   "execution_count": 37,
   "id": "dff85439",
   "metadata": {},
   "outputs": [
    {
     "data": {
      "text/plain": [
       "(57096, 11)"
      ]
     },
     "execution_count": 37,
     "metadata": {},
     "output_type": "execute_result"
    }
   ],
   "source": [
    "#Understanding rows and cloumns of data using shape of the data\n",
    "\n",
    "orderline.shape"
   ]
  },
  {
   "cell_type": "markdown",
   "id": "257f0dc7",
   "metadata": {},
   "source": []
  },
  {
   "cell_type": "code",
   "execution_count": 31,
   "id": "f43a1090",
   "metadata": {
    "scrolled": true
   },
   "outputs": [
    {
     "data": {
      "text/html": [
       "<div>\n",
       "<style scoped>\n",
       "    .dataframe tbody tr th:only-of-type {\n",
       "        vertical-align: middle;\n",
       "    }\n",
       "\n",
       "    .dataframe tbody tr th {\n",
       "        vertical-align: top;\n",
       "    }\n",
       "\n",
       "    .dataframe thead th {\n",
       "        text-align: right;\n",
       "    }\n",
       "</style>\n",
       "<table border=\"1\" class=\"dataframe\">\n",
       "  <thead>\n",
       "    <tr style=\"text-align: right;\">\n",
       "      <th></th>\n",
       "      <th>order_id</th>\n",
       "      <th>order_placement_date</th>\n",
       "      <th>customer_id</th>\n",
       "      <th>product_id</th>\n",
       "      <th>order_qty</th>\n",
       "      <th>agreed_delivery_date</th>\n",
       "      <th>actual_delivery_date</th>\n",
       "      <th>delivery_qty</th>\n",
       "      <th>In Full</th>\n",
       "      <th>On Time</th>\n",
       "      <th>On Time In Full</th>\n",
       "    </tr>\n",
       "  </thead>\n",
       "  <tbody>\n",
       "    <tr>\n",
       "      <th>0</th>\n",
       "      <td>FMR32603203</td>\n",
       "      <td>01-Mar-22</td>\n",
       "      <td>789603</td>\n",
       "      <td>25891203</td>\n",
       "      <td>460</td>\n",
       "      <td>02-Mar-22</td>\n",
       "      <td>03-Mar-22</td>\n",
       "      <td>460</td>\n",
       "      <td>1</td>\n",
       "      <td>0</td>\n",
       "      <td>1</td>\n",
       "    </tr>\n",
       "    <tr>\n",
       "      <th>1</th>\n",
       "      <td>FMR33401603</td>\n",
       "      <td>01-Mar-22</td>\n",
       "      <td>789401</td>\n",
       "      <td>25891203</td>\n",
       "      <td>429</td>\n",
       "      <td>03-Mar-22</td>\n",
       "      <td>03-Mar-22</td>\n",
       "      <td>429</td>\n",
       "      <td>1</td>\n",
       "      <td>1</td>\n",
       "      <td>1</td>\n",
       "    </tr>\n",
       "    <tr>\n",
       "      <th>2</th>\n",
       "      <td>FMR32320302</td>\n",
       "      <td>01-Mar-22</td>\n",
       "      <td>789320</td>\n",
       "      <td>25891203</td>\n",
       "      <td>347</td>\n",
       "      <td>02-Mar-22</td>\n",
       "      <td>02-Mar-22</td>\n",
       "      <td>347</td>\n",
       "      <td>1</td>\n",
       "      <td>1</td>\n",
       "      <td>1</td>\n",
       "    </tr>\n",
       "    <tr>\n",
       "      <th>3</th>\n",
       "      <td>FMR33320501</td>\n",
       "      <td>01-Mar-22</td>\n",
       "      <td>789320</td>\n",
       "      <td>25891203</td>\n",
       "      <td>187</td>\n",
       "      <td>03-Mar-22</td>\n",
       "      <td>03-Mar-22</td>\n",
       "      <td>150</td>\n",
       "      <td>0</td>\n",
       "      <td>1</td>\n",
       "      <td>0</td>\n",
       "    </tr>\n",
       "    <tr>\n",
       "      <th>4</th>\n",
       "      <td>FMR34220601</td>\n",
       "      <td>01-Mar-22</td>\n",
       "      <td>789220</td>\n",
       "      <td>25891203</td>\n",
       "      <td>235</td>\n",
       "      <td>04-Mar-22</td>\n",
       "      <td>04-Mar-22</td>\n",
       "      <td>235</td>\n",
       "      <td>1</td>\n",
       "      <td>1</td>\n",
       "      <td>1</td>\n",
       "    </tr>\n",
       "    <tr>\n",
       "      <th>5</th>\n",
       "      <td>FMR33703603</td>\n",
       "      <td>01-Mar-22</td>\n",
       "      <td>789703</td>\n",
       "      <td>25891203</td>\n",
       "      <td>176</td>\n",
       "      <td>03-Mar-22</td>\n",
       "      <td>03-Mar-22</td>\n",
       "      <td>176</td>\n",
       "      <td>1</td>\n",
       "      <td>1</td>\n",
       "      <td>1</td>\n",
       "    </tr>\n",
       "    <tr>\n",
       "      <th>6</th>\n",
       "      <td>FMR33721603</td>\n",
       "      <td>01-Mar-22</td>\n",
       "      <td>789721</td>\n",
       "      <td>25891203</td>\n",
       "      <td>345</td>\n",
       "      <td>03-Mar-22</td>\n",
       "      <td>03-Mar-22</td>\n",
       "      <td>345</td>\n",
       "      <td>1</td>\n",
       "      <td>1</td>\n",
       "      <td>1</td>\n",
       "    </tr>\n",
       "    <tr>\n",
       "      <th>7</th>\n",
       "      <td>FMR33420203</td>\n",
       "      <td>01-Mar-22</td>\n",
       "      <td>789420</td>\n",
       "      <td>25891203</td>\n",
       "      <td>138</td>\n",
       "      <td>03-Mar-22</td>\n",
       "      <td>06-Mar-22</td>\n",
       "      <td>138</td>\n",
       "      <td>1</td>\n",
       "      <td>0</td>\n",
       "      <td>1</td>\n",
       "    </tr>\n",
       "    <tr>\n",
       "      <th>8</th>\n",
       "      <td>FMR34420402</td>\n",
       "      <td>01-Mar-22</td>\n",
       "      <td>789420</td>\n",
       "      <td>25891203</td>\n",
       "      <td>381</td>\n",
       "      <td>04-Mar-22</td>\n",
       "      <td>05-Mar-22</td>\n",
       "      <td>381</td>\n",
       "      <td>1</td>\n",
       "      <td>0</td>\n",
       "      <td>1</td>\n",
       "    </tr>\n",
       "    <tr>\n",
       "      <th>9</th>\n",
       "      <td>FMR32403401</td>\n",
       "      <td>01-Mar-22</td>\n",
       "      <td>789403</td>\n",
       "      <td>25891203</td>\n",
       "      <td>348</td>\n",
       "      <td>02-Mar-22</td>\n",
       "      <td>02-Mar-22</td>\n",
       "      <td>348</td>\n",
       "      <td>1</td>\n",
       "      <td>1</td>\n",
       "      <td>1</td>\n",
       "    </tr>\n",
       "  </tbody>\n",
       "</table>\n",
       "</div>"
      ],
      "text/plain": [
       "      order_id order_placement_date  customer_id  product_id  order_qty  \\\n",
       "0  FMR32603203            01-Mar-22       789603    25891203        460   \n",
       "1  FMR33401603            01-Mar-22       789401    25891203        429   \n",
       "2  FMR32320302            01-Mar-22       789320    25891203        347   \n",
       "3  FMR33320501            01-Mar-22       789320    25891203        187   \n",
       "4  FMR34220601            01-Mar-22       789220    25891203        235   \n",
       "5  FMR33703603            01-Mar-22       789703    25891203        176   \n",
       "6  FMR33721603            01-Mar-22       789721    25891203        345   \n",
       "7  FMR33420203            01-Mar-22       789420    25891203        138   \n",
       "8  FMR34420402            01-Mar-22       789420    25891203        381   \n",
       "9  FMR32403401            01-Mar-22       789403    25891203        348   \n",
       "\n",
       "  agreed_delivery_date actual_delivery_date  delivery_qty  In Full  On Time  \\\n",
       "0            02-Mar-22            03-Mar-22           460        1        0   \n",
       "1            03-Mar-22            03-Mar-22           429        1        1   \n",
       "2            02-Mar-22            02-Mar-22           347        1        1   \n",
       "3            03-Mar-22            03-Mar-22           150        0        1   \n",
       "4            04-Mar-22            04-Mar-22           235        1        1   \n",
       "5            03-Mar-22            03-Mar-22           176        1        1   \n",
       "6            03-Mar-22            03-Mar-22           345        1        1   \n",
       "7            03-Mar-22            06-Mar-22           138        1        0   \n",
       "8            04-Mar-22            05-Mar-22           381        1        0   \n",
       "9            02-Mar-22            02-Mar-22           348        1        1   \n",
       "\n",
       "   On Time In Full  \n",
       "0                1  \n",
       "1                1  \n",
       "2                1  \n",
       "3                0  \n",
       "4                1  \n",
       "5                1  \n",
       "6                1  \n",
       "7                1  \n",
       "8                1  \n",
       "9                1  "
      ]
     },
     "execution_count": 31,
     "metadata": {},
     "output_type": "execute_result"
    }
   ],
   "source": [
    "## check first 10 records using head\n",
    "\n",
    "orderline.head(10)"
   ]
  },
  {
   "cell_type": "markdown",
   "id": "550f353a",
   "metadata": {},
   "source": []
  },
  {
   "cell_type": "code",
   "execution_count": 32,
   "id": "d31da3a4",
   "metadata": {},
   "outputs": [
    {
     "data": {
      "text/plain": [
       "Index(['order_id', 'order_placement_date', 'customer_id', 'product_id',\n",
       "       'order_qty', 'agreed_delivery_date', 'actual_delivery_date',\n",
       "       'delivery_qty', 'In Full', 'On Time', 'On Time In Full'],\n",
       "      dtype='object')"
      ]
     },
     "execution_count": 32,
     "metadata": {},
     "output_type": "execute_result"
    }
   ],
   "source": [
    "# understanding the totol column \n",
    "orderline.columns"
   ]
  },
  {
   "cell_type": "markdown",
   "id": "cee7c2dc",
   "metadata": {},
   "source": []
  },
  {
   "cell_type": "code",
   "execution_count": 35,
   "id": "044e6c2f",
   "metadata": {},
   "outputs": [
    {
     "name": "stdout",
     "output_type": "stream",
     "text": [
      "<class 'pandas.core.frame.DataFrame'>\n",
      "RangeIndex: 57096 entries, 0 to 57095\n",
      "Data columns (total 11 columns):\n",
      " #   Column                Non-Null Count  Dtype \n",
      "---  ------                --------------  ----- \n",
      " 0   order_id              57096 non-null  object\n",
      " 1   order_placement_date  57096 non-null  object\n",
      " 2   customer_id           57096 non-null  int64 \n",
      " 3   product_id            57096 non-null  int64 \n",
      " 4   order_qty             57096 non-null  int64 \n",
      " 5   agreed_delivery_date  57096 non-null  object\n",
      " 6   actual_delivery_date  57096 non-null  object\n",
      " 7   delivery_qty          57096 non-null  int64 \n",
      " 8   In Full               57096 non-null  int64 \n",
      " 9   On Time               57096 non-null  int64 \n",
      " 10  On Time In Full       57096 non-null  int64 \n",
      "dtypes: int64(7), object(4)\n",
      "memory usage: 4.8+ MB\n"
     ]
    }
   ],
   "source": [
    "# Checking null values\n",
    "orderline.info()"
   ]
  },
  {
   "cell_type": "markdown",
   "id": "e4f2bd3c",
   "metadata": {},
   "source": [
    "### Metric 1 : Total Order Lines"
   ]
  },
  {
   "cell_type": "code",
   "execution_count": 89,
   "id": "46e7b333",
   "metadata": {},
   "outputs": [
    {
     "name": "stdout",
     "output_type": "stream",
     "text": [
      "Total Order_line count is: 57096\n"
     ]
    }
   ],
   "source": [
    "total_order_lines=len(orderline['order_id'])\n",
    "print(\"Total Order_line count is:\",total_order_lines)"
   ]
  },
  {
   "cell_type": "markdown",
   "id": "645b2ccf",
   "metadata": {},
   "source": [
    "#### There have been a total of 57,096 order lines processed, indicating a significant volume of orders."
   ]
  },
  {
   "cell_type": "markdown",
   "id": "059ca631",
   "metadata": {},
   "source": [
    "### Metric 2 : Line Fill Rate"
   ]
  },
  {
   "cell_type": "code",
   "execution_count": 61,
   "id": "ee5fec51",
   "metadata": {},
   "outputs": [
    {
     "name": "stdout",
     "output_type": "stream",
     "text": [
      "LIFR%: 0.66\n"
     ]
    }
   ],
   "source": [
    "x = []\n",
    "for i in orderline['In Full']:\n",
    "    x.append(i)\n",
    "num_order_line  = sum(x)\n",
    "\n",
    "\n",
    "line_fill_rate=round(num_order_line/total_order_lines,2)\n",
    "line_fill_rate\n",
    "print(\"LIFR%:\",line_fill_rate)"
   ]
  },
  {
   "cell_type": "markdown",
   "id": "a26f37eb",
   "metadata": {},
   "source": [
    "#### The Line Fill Rate, which is at 0.66 or 66%, suggests that approximately 66% of ordered items were delivered in full. This metric assesses the accuracy of order fulfillment."
   ]
  },
  {
   "cell_type": "markdown",
   "id": "c7c696be",
   "metadata": {},
   "source": [
    "### Metric 3 : Volume Fill rate"
   ]
  },
  {
   "cell_type": "code",
   "execution_count": 62,
   "id": "ec70feb6",
   "metadata": {},
   "outputs": [
    {
     "name": "stdout",
     "output_type": "stream",
     "text": [
      "VOFR%: 0.97\n"
     ]
    }
   ],
   "source": [
    "rate  = sum(orderline['delivery_qty']) / sum(orderline['order_qty'])\n",
    "VOFR=round(rate,2)\n",
    "print(\"VOFR%:\",VOFR)"
   ]
  },
  {
   "cell_type": "markdown",
   "id": "30815384",
   "metadata": {},
   "source": [
    "#### The Volume Fill Rate, at 0.97 or 97%, indicates that approximately 97% of the ordered quantities were delivered. This metric measures the quantity of products delivered in relation to what was ordered."
   ]
  },
  {
   "cell_type": "markdown",
   "id": "3b9cc3b0",
   "metadata": {},
   "source": [
    "### Table : fact_orders_aggregate"
   ]
  },
  {
   "cell_type": "code",
   "execution_count": 63,
   "id": "42db6b8d",
   "metadata": {},
   "outputs": [
    {
     "data": {
      "text/html": [
       "<div>\n",
       "<style scoped>\n",
       "    .dataframe tbody tr th:only-of-type {\n",
       "        vertical-align: middle;\n",
       "    }\n",
       "\n",
       "    .dataframe tbody tr th {\n",
       "        vertical-align: top;\n",
       "    }\n",
       "\n",
       "    .dataframe thead th {\n",
       "        text-align: right;\n",
       "    }\n",
       "</style>\n",
       "<table border=\"1\" class=\"dataframe\">\n",
       "  <thead>\n",
       "    <tr style=\"text-align: right;\">\n",
       "      <th></th>\n",
       "      <th>order_id</th>\n",
       "      <th>customer_id</th>\n",
       "      <th>order_placement_date</th>\n",
       "      <th>on_time</th>\n",
       "      <th>in_full</th>\n",
       "      <th>otif</th>\n",
       "    </tr>\n",
       "  </thead>\n",
       "  <tbody>\n",
       "    <tr>\n",
       "      <th>0</th>\n",
       "      <td>FMR32103503</td>\n",
       "      <td>789103</td>\n",
       "      <td>01-Mar-22</td>\n",
       "      <td>1</td>\n",
       "      <td>0</td>\n",
       "      <td>0</td>\n",
       "    </tr>\n",
       "    <tr>\n",
       "      <th>1</th>\n",
       "      <td>FMR34103403</td>\n",
       "      <td>789103</td>\n",
       "      <td>01-Mar-22</td>\n",
       "      <td>1</td>\n",
       "      <td>0</td>\n",
       "      <td>0</td>\n",
       "    </tr>\n",
       "    <tr>\n",
       "      <th>2</th>\n",
       "      <td>FMR32103602</td>\n",
       "      <td>789103</td>\n",
       "      <td>01-Mar-22</td>\n",
       "      <td>1</td>\n",
       "      <td>0</td>\n",
       "      <td>0</td>\n",
       "    </tr>\n",
       "    <tr>\n",
       "      <th>3</th>\n",
       "      <td>FMR33103602</td>\n",
       "      <td>789103</td>\n",
       "      <td>01-Mar-22</td>\n",
       "      <td>1</td>\n",
       "      <td>0</td>\n",
       "      <td>0</td>\n",
       "    </tr>\n",
       "    <tr>\n",
       "      <th>4</th>\n",
       "      <td>FMR33103401</td>\n",
       "      <td>789103</td>\n",
       "      <td>01-Mar-22</td>\n",
       "      <td>1</td>\n",
       "      <td>0</td>\n",
       "      <td>0</td>\n",
       "    </tr>\n",
       "    <tr>\n",
       "      <th>...</th>\n",
       "      <td>...</td>\n",
       "      <td>...</td>\n",
       "      <td>...</td>\n",
       "      <td>...</td>\n",
       "      <td>...</td>\n",
       "      <td>...</td>\n",
       "    </tr>\n",
       "    <tr>\n",
       "      <th>31724</th>\n",
       "      <td>FAUG831121302</td>\n",
       "      <td>789121</td>\n",
       "      <td>30-Aug-22</td>\n",
       "      <td>1</td>\n",
       "      <td>1</td>\n",
       "      <td>1</td>\n",
       "    </tr>\n",
       "    <tr>\n",
       "      <th>31725</th>\n",
       "      <td>FAUG831421102</td>\n",
       "      <td>789421</td>\n",
       "      <td>30-Aug-22</td>\n",
       "      <td>1</td>\n",
       "      <td>1</td>\n",
       "      <td>1</td>\n",
       "    </tr>\n",
       "    <tr>\n",
       "      <th>31726</th>\n",
       "      <td>FAUG831122203</td>\n",
       "      <td>789122</td>\n",
       "      <td>30-Aug-22</td>\n",
       "      <td>1</td>\n",
       "      <td>1</td>\n",
       "      <td>1</td>\n",
       "    </tr>\n",
       "    <tr>\n",
       "      <th>31727</th>\n",
       "      <td>FAUG831303403</td>\n",
       "      <td>789303</td>\n",
       "      <td>30-Aug-22</td>\n",
       "      <td>1</td>\n",
       "      <td>1</td>\n",
       "      <td>1</td>\n",
       "    </tr>\n",
       "    <tr>\n",
       "      <th>31728</th>\n",
       "      <td>FAUG831703602</td>\n",
       "      <td>789703</td>\n",
       "      <td>30-Aug-22</td>\n",
       "      <td>1</td>\n",
       "      <td>1</td>\n",
       "      <td>1</td>\n",
       "    </tr>\n",
       "  </tbody>\n",
       "</table>\n",
       "<p>31729 rows × 6 columns</p>\n",
       "</div>"
      ],
      "text/plain": [
       "            order_id  customer_id order_placement_date  on_time  in_full  otif\n",
       "0        FMR32103503       789103            01-Mar-22        1        0     0\n",
       "1        FMR34103403       789103            01-Mar-22        1        0     0\n",
       "2        FMR32103602       789103            01-Mar-22        1        0     0\n",
       "3        FMR33103602       789103            01-Mar-22        1        0     0\n",
       "4        FMR33103401       789103            01-Mar-22        1        0     0\n",
       "...              ...          ...                  ...      ...      ...   ...\n",
       "31724  FAUG831121302       789121            30-Aug-22        1        1     1\n",
       "31725  FAUG831421102       789421            30-Aug-22        1        1     1\n",
       "31726  FAUG831122203       789122            30-Aug-22        1        1     1\n",
       "31727  FAUG831303403       789303            30-Aug-22        1        1     1\n",
       "31728  FAUG831703602       789703            30-Aug-22        1        1     1\n",
       "\n",
       "[31729 rows x 6 columns]"
      ]
     },
     "execution_count": 63,
     "metadata": {},
     "output_type": "execute_result"
    }
   ],
   "source": [
    "# creating dataframe\n",
    "orderaggregate=pd.DataFrame(order_aggregate)\n",
    "\n",
    "orderaggregate"
   ]
  },
  {
   "cell_type": "code",
   "execution_count": 64,
   "id": "22b3191d",
   "metadata": {},
   "outputs": [
    {
     "name": "stdout",
     "output_type": "stream",
     "text": [
      "<class 'pandas.core.frame.DataFrame'>\n",
      "RangeIndex: 31729 entries, 0 to 31728\n",
      "Data columns (total 6 columns):\n",
      " #   Column                Non-Null Count  Dtype \n",
      "---  ------                --------------  ----- \n",
      " 0   order_id              31729 non-null  object\n",
      " 1   customer_id           31729 non-null  int64 \n",
      " 2   order_placement_date  31729 non-null  object\n",
      " 3   on_time               31729 non-null  int64 \n",
      " 4   in_full               31729 non-null  int64 \n",
      " 5   otif                  31729 non-null  int64 \n",
      "dtypes: int64(4), object(2)\n",
      "memory usage: 1.5+ MB\n"
     ]
    }
   ],
   "source": [
    "## checking if any null values\n",
    "\n",
    "orderaggregate.info()"
   ]
  },
  {
   "cell_type": "code",
   "execution_count": 71,
   "id": "7c852c77",
   "metadata": {},
   "outputs": [
    {
     "data": {
      "text/plain": [
       "(31729, 6)"
      ]
     },
     "execution_count": 71,
     "metadata": {},
     "output_type": "execute_result"
    }
   ],
   "source": [
    "# checking total rows and count of columns\n",
    "\n",
    "orderaggregate.shape"
   ]
  },
  {
   "cell_type": "code",
   "execution_count": 77,
   "id": "0fd686ad",
   "metadata": {},
   "outputs": [
    {
     "data": {
      "text/plain": [
       "Index(['order_id', 'customer_id', 'order_placement_date', 'on_time', 'in_full',\n",
       "       'otif'],\n",
       "      dtype='object')"
      ]
     },
     "execution_count": 77,
     "metadata": {},
     "output_type": "execute_result"
    }
   ],
   "source": [
    "# checking all the column in list \n",
    "orderaggregate.columns"
   ]
  },
  {
   "cell_type": "markdown",
   "id": "fbe6d36d",
   "metadata": {},
   "source": [
    "### Metric 4 : Total Orders"
   ]
  },
  {
   "cell_type": "code",
   "execution_count": 70,
   "id": "e6820d1e",
   "metadata": {},
   "outputs": [
    {
     "name": "stdout",
     "output_type": "stream",
     "text": [
      "total orders: 31729\n"
     ]
    }
   ],
   "source": [
    "# calculting a total column lenght using len\n",
    "\n",
    "totalorders=len(orderaggregate['order_id'])\n",
    "print(\"total orders:\",totalorders)"
   ]
  },
  {
   "cell_type": "markdown",
   "id": "4cd4fa0a",
   "metadata": {},
   "source": [
    "#### There have been 31,729 total orders, showing a high demand for products or services."
   ]
  },
  {
   "cell_type": "markdown",
   "id": "8beed4b8",
   "metadata": {},
   "source": [
    "### Metric 5:  On time Delivery rate"
   ]
  },
  {
   "cell_type": "code",
   "execution_count": 76,
   "id": "2a908899",
   "metadata": {},
   "outputs": [
    {
     "name": "stdout",
     "output_type": "stream",
     "text": [
      "On time Delivery % is 0.59\n"
     ]
    }
   ],
   "source": [
    "# calculating ontime delivary\n",
    "\n",
    "num_order=sum(orderaggregate['on_time'])\n",
    "on_time_delivery=num_order/totalorders\n",
    "print(\"On time Delivery % is\",round(on_time_delivery,2))"
   ]
  },
  {
   "cell_type": "markdown",
   "id": "e001c181",
   "metadata": {},
   "source": [
    "#### The On-Time Delivery Percentage is 0.59 or 59%, meaning that 59% of orders were delivered on time as per the agreed-upon schedule."
   ]
  },
  {
   "cell_type": "markdown",
   "id": "1ad3cd36",
   "metadata": {},
   "source": [
    "### Metric 6 : In Full rate"
   ]
  },
  {
   "cell_type": "code",
   "execution_count": 85,
   "id": "2cb32e70",
   "metadata": {},
   "outputs": [
    {
     "name": "stdout",
     "output_type": "stream",
     "text": [
      "In Full Delivey % 0.53\n"
     ]
    }
   ],
   "source": [
    "full_order=sum(orderaggregate['in_full'])\n",
    "in_full_delivery=full_order/totalorders\n",
    "print(\"In Full Delivey %\",round(in_full_delivery,2))"
   ]
  },
  {
   "cell_type": "markdown",
   "id": "eb1d6945",
   "metadata": {},
   "source": [
    "#### The In-Full Delivery Percentage is 0.53 or 53%, indicating that 53% of orders were delivered with all items in full. This metric assesses whether orders are complete or if items are missing upon delivery."
   ]
  },
  {
   "cell_type": "markdown",
   "id": "b541fd52",
   "metadata": {},
   "source": [
    "### Metric 7 : On Time In full rate"
   ]
  },
  {
   "cell_type": "code",
   "execution_count": 88,
   "id": "cdde52e9",
   "metadata": {},
   "outputs": [
    {
     "name": "stdout",
     "output_type": "stream",
     "text": [
      "On Time In Full %: 0.29\n"
     ]
    }
   ],
   "source": [
    "otif=sum(orderaggregate['otif'])\n",
    "on_time_in_full=otif/totalorders\n",
    "on_time_in_full\n",
    "print(\"On Time In Full %:\",round(on_time_in_full,2))"
   ]
  },
  {
   "cell_type": "markdown",
   "id": "bb18ed7b",
   "metadata": {},
   "source": [
    "#### The On-Time In Full percentage is 29%, which combines both on-time delivery and in full delivery performance. This means that 29% of orders are meeting both delivery timeframes and completeness requirements."
   ]
  },
  {
   "cell_type": "markdown",
   "id": "d190e2d0",
   "metadata": {},
   "source": [
    "### Table : dim_targets_orders"
   ]
  },
  {
   "cell_type": "code",
   "execution_count": 90,
   "id": "5b6da19a",
   "metadata": {},
   "outputs": [
    {
     "data": {
      "text/html": [
       "<div>\n",
       "<style scoped>\n",
       "    .dataframe tbody tr th:only-of-type {\n",
       "        vertical-align: middle;\n",
       "    }\n",
       "\n",
       "    .dataframe tbody tr th {\n",
       "        vertical-align: top;\n",
       "    }\n",
       "\n",
       "    .dataframe thead th {\n",
       "        text-align: right;\n",
       "    }\n",
       "</style>\n",
       "<table border=\"1\" class=\"dataframe\">\n",
       "  <thead>\n",
       "    <tr style=\"text-align: right;\">\n",
       "      <th></th>\n",
       "      <th>customer_id</th>\n",
       "      <th>ontime_target%</th>\n",
       "      <th>infull_target%</th>\n",
       "      <th>otif_target%</th>\n",
       "    </tr>\n",
       "  </thead>\n",
       "  <tbody>\n",
       "    <tr>\n",
       "      <th>0</th>\n",
       "      <td>789201</td>\n",
       "      <td>87</td>\n",
       "      <td>81</td>\n",
       "      <td>70</td>\n",
       "    </tr>\n",
       "    <tr>\n",
       "      <th>1</th>\n",
       "      <td>789202</td>\n",
       "      <td>85</td>\n",
       "      <td>81</td>\n",
       "      <td>69</td>\n",
       "    </tr>\n",
       "    <tr>\n",
       "      <th>2</th>\n",
       "      <td>789203</td>\n",
       "      <td>92</td>\n",
       "      <td>76</td>\n",
       "      <td>70</td>\n",
       "    </tr>\n",
       "    <tr>\n",
       "      <th>3</th>\n",
       "      <td>789301</td>\n",
       "      <td>89</td>\n",
       "      <td>78</td>\n",
       "      <td>69</td>\n",
       "    </tr>\n",
       "    <tr>\n",
       "      <th>4</th>\n",
       "      <td>789303</td>\n",
       "      <td>88</td>\n",
       "      <td>78</td>\n",
       "      <td>69</td>\n",
       "    </tr>\n",
       "    <tr>\n",
       "      <th>5</th>\n",
       "      <td>789101</td>\n",
       "      <td>86</td>\n",
       "      <td>80</td>\n",
       "      <td>69</td>\n",
       "    </tr>\n",
       "    <tr>\n",
       "      <th>6</th>\n",
       "      <td>789102</td>\n",
       "      <td>90</td>\n",
       "      <td>81</td>\n",
       "      <td>73</td>\n",
       "    </tr>\n",
       "    <tr>\n",
       "      <th>7</th>\n",
       "      <td>789103</td>\n",
       "      <td>92</td>\n",
       "      <td>67</td>\n",
       "      <td>62</td>\n",
       "    </tr>\n",
       "    <tr>\n",
       "      <th>8</th>\n",
       "      <td>789121</td>\n",
       "      <td>78</td>\n",
       "      <td>77</td>\n",
       "      <td>60</td>\n",
       "    </tr>\n",
       "    <tr>\n",
       "      <th>9</th>\n",
       "      <td>789122</td>\n",
       "      <td>76</td>\n",
       "      <td>65</td>\n",
       "      <td>49</td>\n",
       "    </tr>\n",
       "    <tr>\n",
       "      <th>10</th>\n",
       "      <td>789220</td>\n",
       "      <td>91</td>\n",
       "      <td>76</td>\n",
       "      <td>69</td>\n",
       "    </tr>\n",
       "    <tr>\n",
       "      <th>11</th>\n",
       "      <td>789221</td>\n",
       "      <td>85</td>\n",
       "      <td>80</td>\n",
       "      <td>68</td>\n",
       "    </tr>\n",
       "    <tr>\n",
       "      <th>12</th>\n",
       "      <td>789320</td>\n",
       "      <td>91</td>\n",
       "      <td>81</td>\n",
       "      <td>74</td>\n",
       "    </tr>\n",
       "    <tr>\n",
       "      <th>13</th>\n",
       "      <td>789321</td>\n",
       "      <td>87</td>\n",
       "      <td>81</td>\n",
       "      <td>70</td>\n",
       "    </tr>\n",
       "    <tr>\n",
       "      <th>14</th>\n",
       "      <td>789401</td>\n",
       "      <td>85</td>\n",
       "      <td>79</td>\n",
       "      <td>67</td>\n",
       "    </tr>\n",
       "    <tr>\n",
       "      <th>15</th>\n",
       "      <td>789402</td>\n",
       "      <td>89</td>\n",
       "      <td>80</td>\n",
       "      <td>71</td>\n",
       "    </tr>\n",
       "    <tr>\n",
       "      <th>16</th>\n",
       "      <td>789403</td>\n",
       "      <td>86</td>\n",
       "      <td>79</td>\n",
       "      <td>68</td>\n",
       "    </tr>\n",
       "    <tr>\n",
       "      <th>17</th>\n",
       "      <td>789420</td>\n",
       "      <td>75</td>\n",
       "      <td>79</td>\n",
       "      <td>59</td>\n",
       "    </tr>\n",
       "    <tr>\n",
       "      <th>18</th>\n",
       "      <td>789421</td>\n",
       "      <td>78</td>\n",
       "      <td>66</td>\n",
       "      <td>51</td>\n",
       "    </tr>\n",
       "    <tr>\n",
       "      <th>19</th>\n",
       "      <td>789422</td>\n",
       "      <td>79</td>\n",
       "      <td>81</td>\n",
       "      <td>64</td>\n",
       "    </tr>\n",
       "    <tr>\n",
       "      <th>20</th>\n",
       "      <td>789501</td>\n",
       "      <td>92</td>\n",
       "      <td>80</td>\n",
       "      <td>74</td>\n",
       "    </tr>\n",
       "    <tr>\n",
       "      <th>21</th>\n",
       "      <td>789503</td>\n",
       "      <td>86</td>\n",
       "      <td>82</td>\n",
       "      <td>71</td>\n",
       "    </tr>\n",
       "    <tr>\n",
       "      <th>22</th>\n",
       "      <td>789520</td>\n",
       "      <td>75</td>\n",
       "      <td>68</td>\n",
       "      <td>51</td>\n",
       "    </tr>\n",
       "    <tr>\n",
       "      <th>23</th>\n",
       "      <td>789521</td>\n",
       "      <td>78</td>\n",
       "      <td>79</td>\n",
       "      <td>62</td>\n",
       "    </tr>\n",
       "    <tr>\n",
       "      <th>24</th>\n",
       "      <td>789522</td>\n",
       "      <td>76</td>\n",
       "      <td>79</td>\n",
       "      <td>60</td>\n",
       "    </tr>\n",
       "    <tr>\n",
       "      <th>25</th>\n",
       "      <td>789601</td>\n",
       "      <td>92</td>\n",
       "      <td>67</td>\n",
       "      <td>62</td>\n",
       "    </tr>\n",
       "    <tr>\n",
       "      <th>26</th>\n",
       "      <td>789603</td>\n",
       "      <td>92</td>\n",
       "      <td>75</td>\n",
       "      <td>69</td>\n",
       "    </tr>\n",
       "    <tr>\n",
       "      <th>27</th>\n",
       "      <td>789702</td>\n",
       "      <td>89</td>\n",
       "      <td>66</td>\n",
       "      <td>59</td>\n",
       "    </tr>\n",
       "    <tr>\n",
       "      <th>28</th>\n",
       "      <td>789703</td>\n",
       "      <td>85</td>\n",
       "      <td>78</td>\n",
       "      <td>66</td>\n",
       "    </tr>\n",
       "    <tr>\n",
       "      <th>29</th>\n",
       "      <td>789621</td>\n",
       "      <td>92</td>\n",
       "      <td>81</td>\n",
       "      <td>75</td>\n",
       "    </tr>\n",
       "    <tr>\n",
       "      <th>30</th>\n",
       "      <td>789622</td>\n",
       "      <td>90</td>\n",
       "      <td>79</td>\n",
       "      <td>71</td>\n",
       "    </tr>\n",
       "    <tr>\n",
       "      <th>31</th>\n",
       "      <td>789720</td>\n",
       "      <td>86</td>\n",
       "      <td>77</td>\n",
       "      <td>66</td>\n",
       "    </tr>\n",
       "    <tr>\n",
       "      <th>32</th>\n",
       "      <td>789721</td>\n",
       "      <td>89</td>\n",
       "      <td>75</td>\n",
       "      <td>67</td>\n",
       "    </tr>\n",
       "    <tr>\n",
       "      <th>33</th>\n",
       "      <td>789902</td>\n",
       "      <td>90</td>\n",
       "      <td>81</td>\n",
       "      <td>73</td>\n",
       "    </tr>\n",
       "    <tr>\n",
       "      <th>34</th>\n",
       "      <td>789903</td>\n",
       "      <td>92</td>\n",
       "      <td>65</td>\n",
       "      <td>60</td>\n",
       "    </tr>\n",
       "  </tbody>\n",
       "</table>\n",
       "</div>"
      ],
      "text/plain": [
       "    customer_id  ontime_target%  infull_target%  otif_target%\n",
       "0        789201              87              81            70\n",
       "1        789202              85              81            69\n",
       "2        789203              92              76            70\n",
       "3        789301              89              78            69\n",
       "4        789303              88              78            69\n",
       "5        789101              86              80            69\n",
       "6        789102              90              81            73\n",
       "7        789103              92              67            62\n",
       "8        789121              78              77            60\n",
       "9        789122              76              65            49\n",
       "10       789220              91              76            69\n",
       "11       789221              85              80            68\n",
       "12       789320              91              81            74\n",
       "13       789321              87              81            70\n",
       "14       789401              85              79            67\n",
       "15       789402              89              80            71\n",
       "16       789403              86              79            68\n",
       "17       789420              75              79            59\n",
       "18       789421              78              66            51\n",
       "19       789422              79              81            64\n",
       "20       789501              92              80            74\n",
       "21       789503              86              82            71\n",
       "22       789520              75              68            51\n",
       "23       789521              78              79            62\n",
       "24       789522              76              79            60\n",
       "25       789601              92              67            62\n",
       "26       789603              92              75            69\n",
       "27       789702              89              66            59\n",
       "28       789703              85              78            66\n",
       "29       789621              92              81            75\n",
       "30       789622              90              79            71\n",
       "31       789720              86              77            66\n",
       "32       789721              89              75            67\n",
       "33       789902              90              81            73\n",
       "34       789903              92              65            60"
      ]
     },
     "execution_count": 90,
     "metadata": {},
     "output_type": "execute_result"
    }
   ],
   "source": [
    "# creating data frame\n",
    "targetorders=pd.DataFrame(target_orders)\n",
    "targetorders"
   ]
  },
  {
   "cell_type": "markdown",
   "id": "9519bb6e",
   "metadata": {},
   "source": [
    "### Metric 8 : Average of on-time target%"
   ]
  },
  {
   "cell_type": "code",
   "execution_count": 96,
   "id": "23d83bed",
   "metadata": {},
   "outputs": [
    {
     "name": "stdout",
     "output_type": "stream",
     "text": [
      "Average of on-time target%: 86.09\n"
     ]
    }
   ],
   "source": [
    "avg_on_time_order = round(targetorders['ontime_target%'].mean(),2)\n",
    "print(\"Average of on-time target%:\",avg_on_time_order)"
   ]
  },
  {
   "cell_type": "markdown",
   "id": "efc7f541",
   "metadata": {},
   "source": [
    "#### The average On-Time Target percentage is 86.09%, suggesting that, on average, orders are achieving 86.09% of their on-time delivery targets."
   ]
  },
  {
   "cell_type": "markdown",
   "id": "3626c456",
   "metadata": {},
   "source": [
    "### Metric 9 : Average of In-Full target"
   ]
  },
  {
   "cell_type": "code",
   "execution_count": 99,
   "id": "3a2de2d3",
   "metadata": {},
   "outputs": [
    {
     "name": "stdout",
     "output_type": "stream",
     "text": [
      "Average of In-Full target: 76.51\n"
     ]
    }
   ],
   "source": [
    "avg_in_full_order = round(targetorders['infull_target%'].mean(),2)\n",
    "print(\"Average of In-Full target:\",avg_in_full_order)"
   ]
  },
  {
   "cell_type": "markdown",
   "id": "b68acc2a",
   "metadata": {},
   "source": [
    "#### The average In-Full Target percentage is 76.51%, indicating that orders are, on average, meeting 76.51% of their completeness targets."
   ]
  },
  {
   "cell_type": "markdown",
   "id": "98c6cbcb",
   "metadata": {},
   "source": [
    "### Average of On Time In Full Delivary"
   ]
  },
  {
   "cell_type": "code",
   "execution_count": 98,
   "id": "a60a5131",
   "metadata": {},
   "outputs": [
    {
     "name": "stdout",
     "output_type": "stream",
     "text": [
      "Average of OTIF: 65.91\n"
     ]
    }
   ],
   "source": [
    "avg_on__time_in_ful_order = round(targetorders['otif_target%'].mean(),2)\n",
    "print(\"Average of OTIF:\",avg_on__time_in_ful_order)"
   ]
  },
  {
   "cell_type": "markdown",
   "id": "c729392b",
   "metadata": {},
   "source": [
    "#### The average OTIF percentage is 65.91%, which combines both on-time and in full performance. This indicates that, on average, orders are achieving 65.91% of their combined on-time and completeness targets"
   ]
  },
  {
   "cell_type": "markdown",
   "id": "1acfda81",
   "metadata": {},
   "source": [
    "### Conclusion- To improve, focus on enhancing on-time and in-full delivery percentages for better customer satisfaction and strive to bring the average OTIF percentage closer to 100% for comprehensive order fulfillment efficiency."
   ]
  },
  {
   "cell_type": "code",
   "execution_count": null,
   "id": "6e38db2b",
   "metadata": {},
   "outputs": [],
   "source": []
  }
 ],
 "metadata": {
  "kernelspec": {
   "display_name": "Python 3 (ipykernel)",
   "language": "python",
   "name": "python3"
  },
  "language_info": {
   "codemirror_mode": {
    "name": "ipython",
    "version": 3
   },
   "file_extension": ".py",
   "mimetype": "text/x-python",
   "name": "python",
   "nbconvert_exporter": "python",
   "pygments_lexer": "ipython3",
   "version": "3.10.9"
  }
 },
 "nbformat": 4,
 "nbformat_minor": 5
}
